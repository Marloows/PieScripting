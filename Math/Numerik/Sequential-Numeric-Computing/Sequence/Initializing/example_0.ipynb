{
 "cells": [
  {
   "attachments": {},
   "cell_type": "markdown",
   "metadata": {},
   "source": [
    "# First order yielder_izer"
   ]
  },
  {
   "cell_type": "code",
   "execution_count": 1,
   "metadata": {},
   "outputs": [],
   "source": [
    "from initializer import initialize, loop, line_formatter, show\n",
    "\n",
    "# start the sequence by fetching the element with the index n = 2\n",
    "# where the previous element a(n-1) => a(1) = 2      #recursive-dependency\n",
    "@initialize(2, 2)\n",
    "def a(n, a_):\n",
    "\t\"\"\"\n",
    "\t\ta_n = -3*a_{n-1} + n\n",
    "\t\"\"\"\n",
    "\treturn -3*a_ + n\n"
   ]
  },
  {
   "cell_type": "code",
   "execution_count": 2,
   "metadata": {},
   "outputs": [
    {
     "name": "stdout",
     "output_type": "stream",
     "text": [
      "Help on function initialize in module initializer:\n",
      "\n",
      "initialize(n0: int = 0, *a_, h: int = 1)\n",
      "    Initialize a mathematical sequence with starting values and turns it into a infinite sequence! \n",
      "    \n",
      "            - The sequence must return a single value #the-value-of-the-sequence-at-that-index\n",
      "    \n",
      "            - The sequence must accept at least one parameter n #an-index\n",
      "    \n",
      "            - The sequence can have as many \"RELATIVE\" recursive dependencies as needed or none at all\n",
      "    \n",
      "    Returns an wrapper, which turns a sequence into an infinite yielder!\n",
      "    \n",
      "    The generator returns a tuple of the sequence value with the corresponding index\n",
      "    \n",
      "            (n, a_n)        #index-value-pair\n",
      "    \n",
      "    parameter:\n",
      "            - n0   stating index                                  Default 0\n",
      "            - a_   starting value of the relative dependencies\n",
      "            - h    each time n will be shifted be step.           Default 1\n",
      "    \n",
      "    The generator has internal state, which will be changed\n",
      "    Each time #next is called upon the generator:\n",
      "    \n",
      "            n += h\n",
      "            a = f(n, *a_)   # where *a_ previous terms\n",
      "    \n",
      "    The sequence can be written as a function of (n, *a_) #a_ are previous-terms\n",
      "    The previous terms can also be written as a parameter\n",
      "    \n",
      "            For k previous dependency:\n",
      "                    f(n, a_{n-k}, a_{n-k-1}, a_{n-k-2}.... , a_{n-1})\n",
      "    \n",
      "            f(n, a0, a1, a2)\n",
      "    \n",
      "    The order is important!\n",
      "    \n",
      "    Unfortunately f must be depended on n!\n",
      "\n"
     ]
    }
   ],
   "source": [
    "help(initialize)"
   ]
  },
  {
   "cell_type": "code",
   "execution_count": 3,
   "metadata": {},
   "outputs": [
    {
     "name": "stdout",
     "output_type": "stream",
     "text": [
      "Help on function a in module __main__:\n",
      "\n",
      "a(n, a_)\n",
      "    a_n = -3*a_{n-1} + n\n",
      "\n"
     ]
    }
   ],
   "source": [
    "help(a)"
   ]
  },
  {
   "cell_type": "code",
   "execution_count": 4,
   "metadata": {},
   "outputs": [
    {
     "name": "stdout",
     "output_type": "stream",
     "text": [
      "a(2) : -4\n",
      "a(3) : 15\n",
      "a(4) : -41\n",
      "a(5) : 128\n",
      "a(6) : -378\n",
      "a(7) : 1141\n",
      "a(8) : -3415\n",
      "a(9) : 10254\n",
      "a(10) : -30752\n"
     ]
    }
   ],
   "source": [
    "f = line_formatter()\t# printf\n",
    "\n",
    "A = a()\t\t\t# initiate the generator\n",
    "\n",
    "# zip stop at the shorter list!\n",
    "for na in loop(A):\n",
    "\tf(*na)"
   ]
  },
  {
   "attachments": {},
   "cell_type": "markdown",
   "metadata": {},
   "source": [
    "[According WolframAlpha a(n) = -3*a(n-1)+ n where a(1) = 2](https://www.wolframalpha.com/input?i=a%28n%29+%3D+-3*a%28n-1%29%2B+n+where+a%281%29+%3D+2)"
   ]
  },
  {
   "attachments": {},
   "cell_type": "markdown",
   "metadata": {},
   "source": [
    "$$\n",
    "    a(n) = n - 3 a(n - 1) | a(1) = 2\n",
    "$$\n",
    "\n",
    "This sequence can be written in a non-recursive form:\n",
    "\n",
    "$$\n",
    "    a_n = \\frac{1}{48} (9 - 25 (-3)^n + 12 n)|n\\in N\n",
    "$$\n"
   ]
  },
  {
   "cell_type": "code",
   "execution_count": 5,
   "metadata": {},
   "outputs": [
    {
     "name": "stdout",
     "output_type": "stream",
     "text": [
      "a(1) : 2\n",
      "a(2) : -4\n",
      "a(3) : 15\n",
      "a(4) : -41\n",
      "a(5) : 128\n",
      "a(6) : -378\n",
      "a(7) : 1141\n",
      "a(8) : -3415\n",
      "a(9) : 10254\n"
     ]
    }
   ],
   "source": [
    "# starting index\n",
    "i = 1\n",
    "\n",
    "#@initialize()\t\t# works too, but with the starting value of 0\n",
    "@initialize(i)\n",
    "def a(n):\n",
    "\treturn (9 - 25*(-3)**n + 12*n)//48\t\t#integer-division\n",
    "\n",
    "show(a)"
   ]
  }
 ],
 "metadata": {
  "kernelspec": {
   "display_name": "Python 3",
   "language": "python",
   "name": "python3"
  },
  "language_info": {
   "codemirror_mode": {
    "name": "ipython",
    "version": 3
   },
   "file_extension": ".py",
   "mimetype": "text/x-python",
   "name": "python",
   "nbconvert_exporter": "python",
   "pygments_lexer": "ipython3",
   "version": "3.11.2"
  },
  "orig_nbformat": 4
 },
 "nbformat": 4,
 "nbformat_minor": 2
}
