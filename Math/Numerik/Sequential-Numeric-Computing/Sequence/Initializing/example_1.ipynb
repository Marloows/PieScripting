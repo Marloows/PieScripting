{
 "cells": [
  {
   "attachments": {},
   "cell_type": "markdown",
   "metadata": {},
   "source": [
    "# General order yielder_izer"
   ]
  },
  {
   "cell_type": "code",
   "execution_count": 1,
   "metadata": {},
   "outputs": [],
   "source": [
    "from initializer import initialize, loop, line_formatter\n"
   ]
  },
  {
   "attachments": {},
   "cell_type": "markdown",
   "metadata": {},
   "source": [
    "## [Fibonacci Sequence](https://en.wikipedia.org/wiki/Fibonacci_sequence)"
   ]
  },
  {
   "cell_type": "code",
   "execution_count": 2,
   "metadata": {},
   "outputs": [],
   "source": [
    "@initialize(0, 0, 1)\n",
    "def a(n, *a_):\n",
    "\t\"\"\"\n",
    "\t\ta_n = a_{n-1} + a_{n-2}\n",
    "\n",
    "\t\ta0 = 1\n",
    "\t\ta1 = 1\n",
    "\t\"\"\"\n",
    "\t# a_ to respect the dependencies of a_(n-k)\n",
    "\treturn a_[-1] + a_[-2]\t# backward indexing"
   ]
  },
  {
   "cell_type": "code",
   "execution_count": 3,
   "metadata": {},
   "outputs": [
    {
     "name": "stdout",
     "output_type": "stream",
     "text": [
      "Help on function initialize in module initializer:\n",
      "\n",
      "initialize(n0: int = 0, *a_, h: int = 1)\n",
      "    Initialize a mathematical sequence with starting values and turns it into a infinite sequence! \n",
      "    \n",
      "            - The sequence must return a single value #the-value-of-the-sequence-at-that-index\n",
      "    \n",
      "            - The sequence must accept at least one parameter n #an-index\n",
      "    \n",
      "            - The sequence can have as many \"RELATIVE\" recursive dependencies as needed or none at all\n",
      "    \n",
      "    Returns an wrapper, which turns a sequence into an infinite yielder!\n",
      "    \n",
      "    The generator returns a tuple of the sequence value with the corresponding index\n",
      "    \n",
      "            (n, a_n)        #index-value-pair\n",
      "    \n",
      "    parameter:\n",
      "            - n0   stating index                                  Default 0\n",
      "            - a_   starting value of the relative dependencies\n",
      "            - h    each time n will be shifted be step.           Default 1\n",
      "    \n",
      "    The generator has internal state, which will be changed\n",
      "    Each time #next is called upon the generator:\n",
      "    \n",
      "            n += h\n",
      "            a = f(n, *a_)   # where *a_ previous terms\n",
      "    \n",
      "    The sequence can be written as a function of (n, *a_) #a_ are previous-terms\n",
      "    The previous terms can also be written as a parameter\n",
      "    \n",
      "            For k previous dependency:\n",
      "                    f(n, a_{n-k}, a_{n-k-1}, a_{n-k-2}.... , a_{n-1})\n",
      "    \n",
      "            f(n, a0, a1, a2)\n",
      "    \n",
      "    The order is important!\n",
      "    \n",
      "    Unfortunately f must be depended on n!\n",
      "\n"
     ]
    }
   ],
   "source": [
    "help(initialize)"
   ]
  },
  {
   "cell_type": "code",
   "execution_count": 4,
   "metadata": {},
   "outputs": [
    {
     "name": "stdout",
     "output_type": "stream",
     "text": [
      "Help on function a in module __main__:\n",
      "\n",
      "a(n, *a_)\n",
      "    a_n = a_{n-1} + a_{n-2}\n",
      "    \n",
      "    a0 = 1\n",
      "    a1 = 1\n",
      "\n"
     ]
    }
   ],
   "source": [
    "help(a)"
   ]
  },
  {
   "cell_type": "code",
   "execution_count": 5,
   "metadata": {},
   "outputs": [
    {
     "name": "stdout",
     "output_type": "stream",
     "text": [
      "a(0) : 1\n",
      "a(1) : 2\n",
      "a(2) : 3\n",
      "a(3) : 5\n",
      "a(4) : 8\n",
      "a(5) : 13\n",
      "a(6) : 21\n",
      "a(7) : 34\n",
      "a(8) : 55\n",
      "a(9) : 89\n",
      "a(10) : 144\n",
      "a(11) : 233\n",
      "a(12) : 377\n",
      "a(13) : 610\n",
      "a(14) : 987\n",
      "a(15) : 1597\n",
      "a(16) : 2584\n",
      "a(17) : 4181\n",
      "a(18) : 6765\n",
      "a(19) : 10946\n",
      "a(20) : 17711\n",
      "a(21) : 28657\n",
      "a(22) : 46368\n",
      "a(23) : 75025\n"
     ]
    }
   ],
   "source": [
    "f = line_formatter()\t# printf\n",
    "\n",
    "A = a()\t\t\t# initiate the generator\n",
    "\n",
    "# zip stop at the shorter list!\n",
    "for na in loop(A, 25):\n",
    "\tf(*na)"
   ]
  }
 ],
 "metadata": {
  "kernelspec": {
   "display_name": "Python 3",
   "language": "python",
   "name": "python3"
  },
  "language_info": {
   "codemirror_mode": {
    "name": "ipython",
    "version": 3
   },
   "file_extension": ".py",
   "mimetype": "text/x-python",
   "name": "python",
   "nbconvert_exporter": "python",
   "pygments_lexer": "ipython3",
   "version": "3.11.2"
  },
  "orig_nbformat": 4
 },
 "nbformat": 4,
 "nbformat_minor": 2
}
