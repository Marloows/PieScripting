{
 "cells": [
  {
   "attachments": {},
   "cell_type": "markdown",
   "metadata": {},
   "source": [
    "# Testing Sequences"
   ]
  },
  {
   "cell_type": "code",
   "execution_count": 1,
   "metadata": {},
   "outputs": [],
   "source": [
    "from initializer import initialize, show"
   ]
  },
  {
   "attachments": {},
   "cell_type": "markdown",
   "metadata": {},
   "source": [
    "## [Geometric Progression](https://en.wikipedia.org/wiki/Geometric_progression)"
   ]
  },
  {
   "cell_type": "code",
   "execution_count": 2,
   "metadata": {},
   "outputs": [
    {
     "name": "stdout",
     "output_type": "stream",
     "text": [
      "a(0) : 1\n",
      "a(1) : 2\n",
      "a(2) : 4\n",
      "a(3) : 8\n",
      "a(4) : 16\n",
      "a(5) : 32\n",
      "a(6) : 64\n",
      "a(7) : 128\n",
      "a(8) : 256\n"
     ]
    }
   ],
   "source": [
    "@initialize()\n",
    "def a(n):\n",
    "\treturn 2**n\n",
    "\n",
    "show(a)"
   ]
  },
  {
   "attachments": {},
   "cell_type": "markdown",
   "metadata": {},
   "source": [
    "## [Arithmetic Progression](https://en.wikipedia.org/wiki/Arithmetic_progression)"
   ]
  },
  {
   "attachments": {},
   "cell_type": "markdown",
   "metadata": {},
   "source": [
    "$$\n",
    "\n",
    "a_n = a_0 + (n-1) d\n",
    "\n",
    "$$"
   ]
  },
  {
   "cell_type": "code",
   "execution_count": 3,
   "metadata": {},
   "outputs": [
    {
     "name": "stdout",
     "output_type": "stream",
     "text": [
      "a(1) : 2\n",
      "a(2) : 5\n",
      "a(3) : 8\n",
      "a(4) : 11\n",
      "a(5) : 14\n",
      "a(6) : 17\n",
      "a(7) : 20\n",
      "a(8) : 23\n",
      "a(9) : 26\n"
     ]
    }
   ],
   "source": [
    "a_0 = 2\n",
    "d = 3\n",
    "\n",
    "@initialize(1)\n",
    "def a(n):\n",
    "\treturn a_0 + (n - 1)*d\n",
    "\n",
    "show(a)"
   ]
  },
  {
   "attachments": {},
   "cell_type": "markdown",
   "metadata": {},
   "source": [
    "# Recursive Sequences"
   ]
  },
  {
   "attachments": {},
   "cell_type": "markdown",
   "metadata": {},
   "source": [
    "## "
   ]
  },
  {
   "attachments": {},
   "cell_type": "markdown",
   "metadata": {},
   "source": [
    "## Fibonacci sequence"
   ]
  },
  {
   "cell_type": "code",
   "execution_count": 4,
   "metadata": {},
   "outputs": [
    {
     "name": "stdout",
     "output_type": "stream",
     "text": [
      "a(0) : 1\n",
      "a(1) : 2\n",
      "a(2) : 3\n",
      "a(3) : 5\n",
      "a(4) : 8\n",
      "a(5) : 13\n",
      "a(6) : 21\n",
      "a(7) : 34\n",
      "a(8) : 55\n",
      "a(0) : 55\n",
      "a(1) : 89\n",
      "a(2) : 144\n",
      "a(3) : 233\n",
      "a(4) : 377\n",
      "a(5) : 610\n",
      "a(6) : 987\n",
      "a(7) : 1597\n",
      "a(8) : 2584\n"
     ]
    }
   ],
   "source": [
    "@initialize(0, 0, 1)\n",
    "def a(n, *a_):\n",
    "\t\"\"\"\n",
    "\t\ta_n = a_{n-1} + a_{n-2}\n",
    "\n",
    "\t\ta0 = 1\n",
    "\t\ta1 = 1\n",
    "\t\"\"\"\n",
    "\t# a_ to respect the dependencies of a_(n-k)\n",
    "\treturn a_[-1] + a_[-2]\t# backward indexing\n",
    "\n",
    "show(a)\n",
    "show(a)"
   ]
  },
  {
   "cell_type": "code",
   "execution_count": 5,
   "metadata": {},
   "outputs": [
    {
     "name": "stdout",
     "output_type": "stream",
     "text": [
      "a(0) : 1\n",
      "a(1) : 2\n",
      "a(2) : 3\n",
      "a(3) : 5\n",
      "a(4) : 8\n",
      "a(5) : 13\n",
      "a(6) : 21\n",
      "a(7) : 34\n",
      "a(8) : 55\n",
      "a(9) : 89\n",
      "a(10) : 144\n",
      "a(11) : 233\n",
      "a(12) : 377\n",
      "a(13) : 610\n",
      "a(14) : 987\n",
      "a(15) : 1597\n",
      "a(16) : 2584\n",
      "a(17) : 4181\n",
      "a(18) : 6765\n"
     ]
    }
   ],
   "source": [
    "@initialize(0, 0, 1)\n",
    "def a(n, a0, a1):\t\t# order matter!\n",
    "\t\"\"\"\n",
    "\t\ta_n = a_{n-1} + a_{n-2}\n",
    "\n",
    "\t\ta0 = 1\n",
    "\t\ta1 = 1\n",
    "\t\"\"\"\n",
    "\treturn a1 + a0\n",
    "show(a, 20)"
   ]
  },
  {
   "attachments": {},
   "cell_type": "markdown",
   "metadata": {},
   "source": [
    "## Geometric Sequence Recursive Definition"
   ]
  },
  {
   "cell_type": "code",
   "execution_count": 6,
   "metadata": {},
   "outputs": [
    {
     "name": "stdout",
     "output_type": "stream",
     "text": [
      "a(1) : 2\n",
      "a(2) : 4\n",
      "a(3) : 8\n",
      "a(4) : 16\n",
      "a(5) : 32\n",
      "a(6) : 64\n",
      "a(7) : 128\n",
      "a(8) : 256\n",
      "a(9) : 512\n",
      "a(10) : 1024\n",
      "a(11) : 2048\n",
      "a(12) : 4096\n",
      "a(13) : 8192\n",
      "a(14) : 16384\n",
      "a(15) : 32768\n",
      "a(16) : 65536\n",
      "a(17) : 131072\n",
      "a(18) : 262144\n",
      "a(19) : 524288\n"
     ]
    }
   ],
   "source": [
    "@initialize(1, 1)\n",
    "def a(n, previous_element):\n",
    "\t\"\"\"\n",
    "\t\ta_n = 2*a_{n-1}\n",
    "\n",
    "\t\ta0 = 1\n",
    "\t\"\"\"\n",
    "\treturn 2*previous_element\n",
    "\n",
    "show(a, 20)"
   ]
  }
 ],
 "metadata": {
  "kernelspec": {
   "display_name": "Python 3",
   "language": "python",
   "name": "python3"
  },
  "language_info": {
   "codemirror_mode": {
    "name": "ipython",
    "version": 3
   },
   "file_extension": ".py",
   "mimetype": "text/x-python",
   "name": "python",
   "nbconvert_exporter": "python",
   "pygments_lexer": "ipython3",
   "version": "3.11.2"
  },
  "orig_nbformat": 4
 },
 "nbformat": 4,
 "nbformat_minor": 2
}
