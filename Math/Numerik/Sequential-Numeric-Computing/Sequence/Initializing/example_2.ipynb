{
 "cells": [
  {
   "attachments": {},
   "cell_type": "markdown",
   "metadata": {},
   "source": [
    "# Testing Sequences"
   ]
  },
  {
   "cell_type": "code",
   "execution_count": 1,
   "metadata": {},
   "outputs": [],
   "source": [
    "from initializer import initialize, show"
   ]
  },
  {
   "attachments": {},
   "cell_type": "markdown",
   "metadata": {},
   "source": [
    "## [Geometric Progression](https://en.wikipedia.org/wiki/Geometric_progression)"
   ]
  },
  {
   "cell_type": "code",
   "execution_count": 2,
   "metadata": {},
   "outputs": [
    {
     "name": "stdout",
     "output_type": "stream",
     "text": [
      "| n |  a  |\n",
      "|:-:|:---:|\n",
      "| 0 |  1  |\n",
      "| 1 |  2  |\n",
      "| 2 |  4  |\n",
      "| 3 |  8  |\n",
      "| 4 | 16  |\n",
      "| 5 | 32  |\n",
      "| 6 | 64  |\n",
      "| 7 | 128 |\n",
      "| 8 | 256 |\n"
     ]
    }
   ],
   "source": [
    "@initialize()\n",
    "def a(n):\n",
    "\treturn 2**n\n"
   ]
  },
  {
   "attachments": {},
   "cell_type": "markdown",
   "metadata": {},
   "source": [
    "## [Arithmetic Progression](https://en.wikipedia.org/wiki/Arithmetic_progression)"
   ]
  },
  {
   "attachments": {},
   "cell_type": "markdown",
   "metadata": {},
   "source": [
    "$$\n",
    "\n",
    "a_n = a_0 + (n-1) d\n",
    "\n",
    "$$"
   ]
  },
  {
   "cell_type": "code",
   "execution_count": 3,
   "metadata": {},
   "outputs": [
    {
     "name": "stdout",
     "output_type": "stream",
     "text": [
      "| n | a  |\n",
      "|:-:|:--:|\n",
      "| 1 | 2  |\n",
      "| 2 | 5  |\n",
      "| 3 | 8  |\n",
      "| 4 | 11 |\n",
      "| 5 | 14 |\n",
      "| 6 | 17 |\n",
      "| 7 | 20 |\n",
      "| 8 | 23 |\n",
      "| 9 | 26 |\n"
     ]
    }
   ],
   "source": [
    "a_0 = 2\n",
    "d = 3\n",
    "\n",
    "@initialize(1)\n",
    "def a(n):\n",
    "\treturn a_0 + (n - 1)*d\n"
   ]
  },
  {
   "attachments": {},
   "cell_type": "markdown",
   "metadata": {},
   "source": [
    "# Recursive Sequences"
   ]
  },
  {
   "attachments": {},
   "cell_type": "markdown",
   "metadata": {},
   "source": [
    "## "
   ]
  },
  {
   "attachments": {},
   "cell_type": "markdown",
   "metadata": {},
   "source": [
    "## Fibonacci sequence"
   ]
  },
  {
   "cell_type": "code",
   "execution_count": 4,
   "metadata": {},
   "outputs": [
    {
     "name": "stdout",
     "output_type": "stream",
     "text": [
      "| n | a  |\n",
      "|:-:|:--:|\n",
      "| 0 | 1  |\n",
      "| 1 | 2  |\n",
      "| 2 | 3  |\n",
      "| 3 | 5  |\n",
      "| 4 | 8  |\n",
      "| 5 | 13 |\n",
      "| 6 | 21 |\n",
      "| 7 | 34 |\n",
      "| 8 | 55 |\n",
      "| n | a  |\n",
      "|:-:|:--:|\n",
      "| 0 | 1  |\n",
      "| 1 | 2  |\n",
      "| 2 | 3  |\n",
      "| 3 | 5  |\n",
      "| 4 | 8  |\n",
      "| 5 | 13 |\n",
      "| 6 | 21 |\n",
      "| 7 | 34 |\n",
      "| 8 | 55 |\n"
     ]
    }
   ],
   "source": [
    "@initialize(0, 0, 1, verbose=False)\n",
    "def a(n, *a_):\n",
    "\t\"\"\"\n",
    "\t\ta_n = a_{n-1} + a_{n-2}\n",
    "\n",
    "\t\ta0 = 1\n",
    "\t\ta1 = 1\n",
    "\t\"\"\"\n",
    "\t# a_ to respect the dependencies of a_(n-k)\n",
    "\treturn a_[-1] + a_[-2]\t# backward indexing\n",
    "\n",
    "show(a)\n",
    "show(a)"
   ]
  },
  {
   "cell_type": "code",
   "execution_count": 5,
   "metadata": {},
   "outputs": [
    {
     "name": "stdout",
     "output_type": "stream",
     "text": [
      "| n | a  |\n",
      "|:-:|:--:|\n",
      "| 0 | 1  |\n",
      "| 1 | 2  |\n",
      "| 2 | 3  |\n",
      "| 3 | 5  |\n",
      "| 4 | 8  |\n",
      "| 5 | 13 |\n",
      "| 6 | 21 |\n",
      "| 7 | 34 |\n",
      "| 8 | 55 |\n"
     ]
    }
   ],
   "source": [
    "@initialize(0, 0, 1)\n",
    "def a(n, a0, a1):\t\t# order matter!\n",
    "\t\"\"\"\n",
    "\t\ta_n = a_{n-1} + a_{n-2}\n",
    "\n",
    "\t\ta0 = 1\n",
    "\t\ta1 = 1\n",
    "\t\"\"\"\n",
    "\treturn a1 + a0\n"
   ]
  },
  {
   "attachments": {},
   "cell_type": "markdown",
   "metadata": {},
   "source": [
    "## Geometric Sequence Recursive Definition"
   ]
  },
  {
   "cell_type": "code",
   "execution_count": 6,
   "metadata": {},
   "outputs": [
    {
     "name": "stdout",
     "output_type": "stream",
     "text": [
      "| n |  a  |\n",
      "|:-:|:---:|\n",
      "| 1 |  2  |\n",
      "| 2 |  4  |\n",
      "| 3 |  8  |\n",
      "| 4 | 16  |\n",
      "| 5 | 32  |\n",
      "| 6 | 64  |\n",
      "| 7 | 128 |\n",
      "| 8 | 256 |\n",
      "| 9 | 512 |\n",
      "| n  |   a    |\n",
      "|:--:|:------:|\n",
      "| 1  |   2    |\n",
      "| 2  |   4    |\n",
      "| 3  |   8    |\n",
      "| 4  |   16   |\n",
      "| 5  |   32   |\n",
      "| 6  |   64   |\n",
      "| 7  |  128   |\n",
      "| 8  |  256   |\n",
      "| 9  |  512   |\n",
      "| 10 |  1024  |\n",
      "| 11 |  2048  |\n",
      "| 12 |  4096  |\n",
      "| 13 |  8192  |\n",
      "| 14 | 16384  |\n",
      "| 15 | 32768  |\n",
      "| 16 | 65536  |\n",
      "| 17 | 131072 |\n",
      "| 18 | 262144 |\n",
      "| 19 | 524288 |\n"
     ]
    }
   ],
   "source": [
    "@initialize(1, 1)\n",
    "def a(n, previous_element, verbose = False):\n",
    "\t\"\"\"\n",
    "\t\ta_n = 2*a_{n-1}\n",
    "\n",
    "\t\ta0 = 1\n",
    "\t\"\"\"\n",
    "\treturn 2*previous_element\n",
    "\n",
    "show(a, 20)"
   ]
  }
 ],
 "metadata": {
  "kernelspec": {
   "display_name": "Python 3",
   "language": "python",
   "name": "python3"
  },
  "language_info": {
   "codemirror_mode": {
    "name": "ipython",
    "version": 3
   },
   "file_extension": ".py",
   "mimetype": "text/x-python",
   "name": "python",
   "nbconvert_exporter": "python",
   "pygments_lexer": "ipython3",
   "version": "3.9.13"
  },
  "orig_nbformat": 4
 },
 "nbformat": 4,
 "nbformat_minor": 2
}
